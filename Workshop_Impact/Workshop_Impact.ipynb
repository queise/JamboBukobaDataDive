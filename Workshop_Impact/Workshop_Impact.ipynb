{
 "cells": [
  {
   "cell_type": "markdown",
   "metadata": {},
   "source": [
    "### Study of the impact of the workshops on the marks of schools"
   ]
  },
  {
   "cell_type": "code",
   "execution_count": 1,
   "metadata": {
    "collapsed": false
   },
   "outputs": [],
   "source": [
    "import numpy as np\n",
    "import pandas as pd\n",
    "import matplotlib.pyplot as plt\n",
    "from matplotlib.backends.backend_pdf import PdfPages\n",
    "import seaborn as sns\n",
    "%matplotlib inline"
   ]
  },
  {
   "cell_type": "code",
   "execution_count": 2,
   "metadata": {
    "collapsed": true
   },
   "outputs": [],
   "source": [
    "df = pd.read_csv('../datasets/SchoolLevel.csv', sep=';')"
   ]
  },
  {
   "cell_type": "code",
   "execution_count": 3,
   "metadata": {
    "collapsed": false
   },
   "outputs": [
    {
     "data": {
      "text/plain": [
       "(1570, 79)"
      ]
     },
     "execution_count": 3,
     "metadata": {},
     "output_type": "execute_result"
    }
   ],
   "source": [
    "df.shape"
   ]
  },
  {
   "cell_type": "code",
   "execution_count": 4,
   "metadata": {
    "collapsed": false
   },
   "outputs": [
    {
     "data": {
      "text/html": [
       "<div style=\"max-height:1000px;max-width:1500px;overflow:auto;\">\n",
       "<table border=\"1\" class=\"dataframe\">\n",
       "  <thead>\n",
       "    <tr style=\"text-align: right;\">\n",
       "      <th></th>\n",
       "      <th>X</th>\n",
       "      <th>schoolcode</th>\n",
       "      <th>Candidates_2013</th>\n",
       "      <th>Passed_2013</th>\n",
       "      <th>Average_Marks_2013</th>\n",
       "      <th>Change_Average_Marks_2013</th>\n",
       "      <th>Band_2013</th>\n",
       "      <th>Rank_2013</th>\n",
       "      <th>Candidates_2014</th>\n",
       "      <th>Passed_2014</th>\n",
       "      <th>...</th>\n",
       "      <th>WS.2013</th>\n",
       "      <th>WS.2014</th>\n",
       "      <th>WS.2015</th>\n",
       "      <th>Region</th>\n",
       "      <th>english_grade_numeric</th>\n",
       "      <th>science_grade_numeric</th>\n",
       "      <th>kiswahili_grade_numeric</th>\n",
       "      <th>maarifa_grade_numeric</th>\n",
       "      <th>hisabati_grade_numeric</th>\n",
       "      <th>average_grade_numeric</th>\n",
       "    </tr>\n",
       "  </thead>\n",
       "  <tbody>\n",
       "    <tr>\n",
       "      <th>0</th>\n",
       "      <td>1</td>\n",
       "      <td>P0501001</td>\n",
       "      <td>72</td>\n",
       "      <td>71</td>\n",
       "      <td>149.78</td>\n",
       "      <td>36.65</td>\n",
       "      <td>5</td>\n",
       "      <td>780</td>\n",
       "      <td>51</td>\n",
       "      <td>50</td>\n",
       "      <td>...</td>\n",
       "      <td>0</td>\n",
       "      <td>0</td>\n",
       "      <td>0</td>\n",
       "      <td>Kagera</td>\n",
       "      <td>2</td>\n",
       "      <td>2</td>\n",
       "      <td>3</td>\n",
       "      <td>3</td>\n",
       "      <td>3</td>\n",
       "      <td>3</td>\n",
       "    </tr>\n",
       "    <tr>\n",
       "      <th>1</th>\n",
       "      <td>2</td>\n",
       "      <td>P0501004</td>\n",
       "      <td>69</td>\n",
       "      <td>67</td>\n",
       "      <td>146.01</td>\n",
       "      <td>33.76</td>\n",
       "      <td>5</td>\n",
       "      <td>919</td>\n",
       "      <td>58</td>\n",
       "      <td>57</td>\n",
       "      <td>...</td>\n",
       "      <td>0</td>\n",
       "      <td>0</td>\n",
       "      <td>0</td>\n",
       "      <td>Kagera</td>\n",
       "      <td>2</td>\n",
       "      <td>2</td>\n",
       "      <td>3</td>\n",
       "      <td>2</td>\n",
       "      <td>2</td>\n",
       "      <td>2</td>\n",
       "    </tr>\n",
       "    <tr>\n",
       "      <th>2</th>\n",
       "      <td>3</td>\n",
       "      <td>P0501002</td>\n",
       "      <td>41</td>\n",
       "      <td>28</td>\n",
       "      <td>116.34</td>\n",
       "      <td>29.88</td>\n",
       "      <td>6</td>\n",
       "      <td>3661</td>\n",
       "      <td>47</td>\n",
       "      <td>32</td>\n",
       "      <td>...</td>\n",
       "      <td>0</td>\n",
       "      <td>0</td>\n",
       "      <td>0</td>\n",
       "      <td>Kagera</td>\n",
       "      <td>3</td>\n",
       "      <td>3</td>\n",
       "      <td>3</td>\n",
       "      <td>3</td>\n",
       "      <td>3</td>\n",
       "      <td>3</td>\n",
       "    </tr>\n",
       "    <tr>\n",
       "      <th>3</th>\n",
       "      <td>4</td>\n",
       "      <td>P0501019</td>\n",
       "      <td>15</td>\n",
       "      <td>14</td>\n",
       "      <td>166.73</td>\n",
       "      <td>74.73</td>\n",
       "      <td>4</td>\n",
       "      <td>368</td>\n",
       "      <td>15</td>\n",
       "      <td>12</td>\n",
       "      <td>...</td>\n",
       "      <td>0</td>\n",
       "      <td>1</td>\n",
       "      <td>0</td>\n",
       "      <td>Kagera</td>\n",
       "      <td>2</td>\n",
       "      <td>2</td>\n",
       "      <td>2</td>\n",
       "      <td>1</td>\n",
       "      <td>2</td>\n",
       "      <td>2</td>\n",
       "    </tr>\n",
       "    <tr>\n",
       "      <th>4</th>\n",
       "      <td>5</td>\n",
       "      <td>P0501093</td>\n",
       "      <td>51</td>\n",
       "      <td>50</td>\n",
       "      <td>177.59</td>\n",
       "      <td>10.30</td>\n",
       "      <td>4</td>\n",
       "      <td>226</td>\n",
       "      <td>42</td>\n",
       "      <td>42</td>\n",
       "      <td>...</td>\n",
       "      <td>0</td>\n",
       "      <td>0</td>\n",
       "      <td>0</td>\n",
       "      <td>Kagera</td>\n",
       "      <td>1</td>\n",
       "      <td>1</td>\n",
       "      <td>1</td>\n",
       "      <td>2</td>\n",
       "      <td>1</td>\n",
       "      <td>1</td>\n",
       "    </tr>\n",
       "  </tbody>\n",
       "</table>\n",
       "<p>5 rows × 79 columns</p>\n",
       "</div>"
      ],
      "text/plain": [
       "   X schoolcode  Candidates_2013  Passed_2013  Average_Marks_2013  \\\n",
       "0  1   P0501001               72           71              149.78   \n",
       "1  2   P0501004               69           67              146.01   \n",
       "2  3   P0501002               41           28              116.34   \n",
       "3  4   P0501019               15           14              166.73   \n",
       "4  5   P0501093               51           50              177.59   \n",
       "\n",
       "   Change_Average_Marks_2013  Band_2013  Rank_2013  Candidates_2014  \\\n",
       "0                      36.65          5        780               51   \n",
       "1                      33.76          5        919               58   \n",
       "2                      29.88          6       3661               47   \n",
       "3                      74.73          4        368               15   \n",
       "4                      10.30          4        226               42   \n",
       "\n",
       "   Passed_2014          ...            WS.2013  WS.2014  WS.2015  Region  \\\n",
       "0           50          ...                  0        0        0  Kagera   \n",
       "1           57          ...                  0        0        0  Kagera   \n",
       "2           32          ...                  0        0        0  Kagera   \n",
       "3           12          ...                  0        1        0  Kagera   \n",
       "4           42          ...                  0        0        0  Kagera   \n",
       "\n",
       "   english_grade_numeric  science_grade_numeric  kiswahili_grade_numeric  \\\n",
       "0                      2                      2                        3   \n",
       "1                      2                      2                        3   \n",
       "2                      3                      3                        3   \n",
       "3                      2                      2                        2   \n",
       "4                      1                      1                        1   \n",
       "\n",
       "   maarifa_grade_numeric  hisabati_grade_numeric  average_grade_numeric  \n",
       "0                      3                       3                      3  \n",
       "1                      2                       2                      2  \n",
       "2                      3                       3                      3  \n",
       "3                      1                       2                      2  \n",
       "4                      2                       1                      1  \n",
       "\n",
       "[5 rows x 79 columns]"
      ]
     },
     "execution_count": 4,
     "metadata": {},
     "output_type": "execute_result"
    }
   ],
   "source": [
    "df.head()"
   ]
  },
  {
   "cell_type": "code",
   "execution_count": 5,
   "metadata": {
    "collapsed": false
   },
   "outputs": [
    {
     "name": "stdout",
     "output_type": "stream",
     "text": [
      "['Average_Marks_2011', 'Average_Marks_2012', 'Average_Marks_2013', 'Average_Marks_2014', 'Band_2011', 'Band_2013', 'Band_2014', 'Bonanza_2012', 'Bonanza_2013', 'Bonanza_2014', 'Bonanza_sum', 'Candidates_2011', 'Candidates_2012', 'Candidates_2013', 'Candidates_2014', 'Change_Average_2012', 'Change_Average_Marks_2013', 'Change_Average_Marks_2014', 'Identifier', 'Passed_2011', 'Passed_2012', 'Passed_2013', 'Passed_2014', 'Project_2013', 'Project_2014', 'Rank_2011', 'Rank_2012', 'Rank_2013', 'Rank_2014', 'Region', 'SUM.WORKSHOPS', 'Schoolname', 'Schoolproject_description', 'Schoolproject_happened', 'Schoolprojects_Boys', 'Schoolprojects_Girls', 'Schoolprojects_Students_Total', 'Unnamed: 19', 'WS.2010', 'WS.2011', 'WS.2012', 'WS.2013', 'WS.2014', 'WS.2015', 'WS1', 'WS10', 'WS11', 'WS12', 'WS13', 'WS19', 'WS2', 'WS20', 'WS21', 'WS22', 'WS23', 'WS24', 'WS25', 'WS26', 'WS27', 'WS28', 'WS29', 'WS3', 'WS30', 'WS31', 'WS32', 'WS4', 'WS5', 'WS6', 'WS7', 'WS8', 'WS9', 'X', 'average_grade_numeric', 'english_grade_numeric', 'hisabati_grade_numeric', 'kiswahili_grade_numeric', 'maarifa_grade_numeric', 'schoolcode', 'science_grade_numeric']\n"
     ]
    }
   ],
   "source": [
    "print sorted(list(df.columns))"
   ]
  },
  {
   "cell_type": "markdown",
   "metadata": {},
   "source": [
    "#### First insight: does having a project on the school impacts the average marks of the school on the next year?"
   ]
  },
  {
   "cell_type": "code",
   "execution_count": 6,
   "metadata": {
    "collapsed": false
   },
   "outputs": [
    {
     "name": "stdout",
     "output_type": "stream",
     "text": [
      "Schools with NO project have a 2014 average mark of:\t 118.0\n",
      "Schools with a project have a 2014 average mark of:\t 127.3  (+8%)\n"
     ]
    }
   ],
   "source": [
    "# mean 2014 average mark of all schools that had NO project before:\n",
    "m1 = df[(df[\"Project_2013\"]==0) & (df[\"Project_2014\"]==0)][\"Average_Marks_2014\"].mean()\n",
    "print(\"Schools with NO project have a 2014 average mark of:\\t %.1f\" % m1)\n",
    "# mean 2014 average mark of all schools that had a project the year before:\n",
    "m2 = df[(df[\"Project_2013\"]==1) & (df[\"Project_2014\"]==0)][\"Average_Marks_2014\"].mean()\n",
    "print(\"Schools with a project have a 2014 average mark of:\\t %.1f  (+%.0f%%)\" % \n",
    "      (m2, ((m2-m1)/m1)*100))"
   ]
  },
  {
   "cell_type": "markdown",
   "metadata": {},
   "source": [
    "So **YES**, as expected, schools with a project have better marks. Of course that can be due not to the benefits of the project itself, but to the fact that the schools that are awarded a project were already the best ones.\n",
    "\n",
    "Let's investigate that, by looking at the average marks of schools in the past:"
   ]
  },
  {
   "cell_type": "code",
   "execution_count": 7,
   "metadata": {
    "collapsed": false
   },
   "outputs": [
    {
     "name": "stdout",
     "output_type": "stream",
     "text": [
      "Past average mark of schools with NO project:\t 108.6\n",
      "Past average mark of schools with a project:\t 110.4  (+2%)\n"
     ]
    }
   ],
   "source": [
    "m1 = df[(df[\"Project_2013\"]==0) & (df[\"Project_2014\"]==0)][[\"Average_Marks_2011\",\"Average_Marks_2012\"]].mean().mean()\n",
    "print(\"Past average mark of schools with NO project:\\t %.1f\" % m1)\n",
    "m2 = df[(df[\"Project_2013\"]==1) | (df[\"Project_2014\"]==1)][[\"Average_Marks_2011\",\"Average_Marks_2012\"]].mean().mean()\n",
    "print(\"Past average mark of schools with a project:\\t %.1f  (+%.0f%%)\" % \n",
    "      (m2, ((m2-m1)/m1)*100))"
   ]
  },
  {
   "cell_type": "markdown",
   "metadata": {},
   "source": [
    "So there was indeed a previous difference between project/NO-project schools before the projects took place, but it was small (~2%), and this difference increased fourfold after the realization of the projects."
   ]
  },
  {
   "cell_type": "markdown",
   "metadata": {
    "collapsed": false
   },
   "source": [
    "### Impact of having workshops (WS)\n",
    "\n",
    "First, we will have a closer look at the data."
   ]
  },
  {
   "cell_type": "markdown",
   "metadata": {},
   "source": [
    "For our purposes, we only want to study the columns:\n",
    " - \"WS.year\": number of workshops taken by a teacher of the school that year\n",
    " - \"Average_Marks_year\": average marks of the school that year"
   ]
  },
  {
   "cell_type": "code",
   "execution_count": 8,
   "metadata": {
    "collapsed": false
   },
   "outputs": [
    {
     "name": "stdout",
     "output_type": "stream",
     "text": [
      "['WS.2010', 'WS.2011', 'WS.2012', 'WS.2013', 'WS.2014', 'WS.2015', 'Average_Marks_2011', 'Average_Marks_2012', 'Average_Marks_2013', 'Average_Marks_2014', 'SUM.WORKSHOPS']\n"
     ]
    },
    {
     "data": {
      "text/html": [
       "<div style=\"max-height:1000px;max-width:1500px;overflow:auto;\">\n",
       "<table border=\"1\" class=\"dataframe\">\n",
       "  <thead>\n",
       "    <tr style=\"text-align: right;\">\n",
       "      <th></th>\n",
       "      <th>WS.2010</th>\n",
       "      <th>WS.2011</th>\n",
       "      <th>WS.2012</th>\n",
       "      <th>WS.2013</th>\n",
       "      <th>WS.2014</th>\n",
       "      <th>WS.2015</th>\n",
       "      <th>Average_Marks_2011</th>\n",
       "      <th>Average_Marks_2012</th>\n",
       "      <th>Average_Marks_2013</th>\n",
       "      <th>Average_Marks_2014</th>\n",
       "      <th>SUM.WORKSHOPS</th>\n",
       "    </tr>\n",
       "    <tr>\n",
       "      <th>X</th>\n",
       "      <th></th>\n",
       "      <th></th>\n",
       "      <th></th>\n",
       "      <th></th>\n",
       "      <th></th>\n",
       "      <th></th>\n",
       "      <th></th>\n",
       "      <th></th>\n",
       "      <th></th>\n",
       "      <th></th>\n",
       "      <th></th>\n",
       "    </tr>\n",
       "  </thead>\n",
       "  <tbody>\n",
       "    <tr>\n",
       "      <th>1</th>\n",
       "      <td>0</td>\n",
       "      <td>0</td>\n",
       "      <td>0</td>\n",
       "      <td>0</td>\n",
       "      <td>0</td>\n",
       "      <td>0</td>\n",
       "      <td>153.98</td>\n",
       "      <td>113.13</td>\n",
       "      <td>149.78</td>\n",
       "      <td>150.55</td>\n",
       "      <td>0</td>\n",
       "    </tr>\n",
       "    <tr>\n",
       "      <th>2</th>\n",
       "      <td>0</td>\n",
       "      <td>0</td>\n",
       "      <td>1</td>\n",
       "      <td>0</td>\n",
       "      <td>0</td>\n",
       "      <td>0</td>\n",
       "      <td>152.75</td>\n",
       "      <td>112.25</td>\n",
       "      <td>146.01</td>\n",
       "      <td>179.76</td>\n",
       "      <td>1</td>\n",
       "    </tr>\n",
       "    <tr>\n",
       "      <th>3</th>\n",
       "      <td>0</td>\n",
       "      <td>0</td>\n",
       "      <td>0</td>\n",
       "      <td>0</td>\n",
       "      <td>0</td>\n",
       "      <td>0</td>\n",
       "      <td>108.19</td>\n",
       "      <td>86.46</td>\n",
       "      <td>116.34</td>\n",
       "      <td>114.66</td>\n",
       "      <td>0</td>\n",
       "    </tr>\n",
       "    <tr>\n",
       "      <th>4</th>\n",
       "      <td>0</td>\n",
       "      <td>0</td>\n",
       "      <td>0</td>\n",
       "      <td>0</td>\n",
       "      <td>1</td>\n",
       "      <td>0</td>\n",
       "      <td>144.26</td>\n",
       "      <td>92.00</td>\n",
       "      <td>166.73</td>\n",
       "      <td>116.87</td>\n",
       "      <td>1</td>\n",
       "    </tr>\n",
       "    <tr>\n",
       "      <th>5</th>\n",
       "      <td>0</td>\n",
       "      <td>0</td>\n",
       "      <td>0</td>\n",
       "      <td>0</td>\n",
       "      <td>0</td>\n",
       "      <td>0</td>\n",
       "      <td>179.14</td>\n",
       "      <td>167.29</td>\n",
       "      <td>177.59</td>\n",
       "      <td>190.33</td>\n",
       "      <td>0</td>\n",
       "    </tr>\n",
       "  </tbody>\n",
       "</table>\n",
       "</div>"
      ],
      "text/plain": [
       "   WS.2010  WS.2011  WS.2012  WS.2013  WS.2014  WS.2015  Average_Marks_2011  \\\n",
       "X                                                                             \n",
       "1        0        0        0        0        0        0              153.98   \n",
       "2        0        0        1        0        0        0              152.75   \n",
       "3        0        0        0        0        0        0              108.19   \n",
       "4        0        0        0        0        1        0              144.26   \n",
       "5        0        0        0        0        0        0              179.14   \n",
       "\n",
       "   Average_Marks_2012  Average_Marks_2013  Average_Marks_2014  SUM.WORKSHOPS  \n",
       "X                                                                             \n",
       "1              113.13              149.78              150.55              0  \n",
       "2              112.25              146.01              179.76              1  \n",
       "3               86.46              116.34              114.66              0  \n",
       "4               92.00              166.73              116.87              1  \n",
       "5              167.29              177.59              190.33              0  "
      ]
     },
     "execution_count": 8,
     "metadata": {},
     "output_type": "execute_result"
    }
   ],
   "source": [
    "# reindex by column 'X' and sort columns alphabetically:\n",
    "df = df.set_index(['X'])\n",
    "df = df.reindex_axis(sorted(df.columns), axis=1)\n",
    "\n",
    "# Keep only specific columns:\n",
    "WScols = ['WS.%i' % i for i in xrange(2010,2016)]\n",
    "cols_to_keep = list(WScols) # adding list() avoids automatic modification of WScols\n",
    "Average_Marks_cols = ['Average_Marks_%i' % i for i in xrange(2011,2015)]\n",
    "cols_to_keep.extend(Average_Marks_cols)\n",
    "cols_to_keep.append('SUM.WORKSHOPS')\n",
    "print cols_to_keep\n",
    "df = df[cols_to_keep]\n",
    "df.head()"
   ]
  },
  {
   "cell_type": "markdown",
   "metadata": {},
   "source": [
    "#### How many null data do we have?"
   ]
  },
  {
   "cell_type": "code",
   "execution_count": 9,
   "metadata": {
    "collapsed": false
   },
   "outputs": [
    {
     "name": "stdout",
     "output_type": "stream",
     "text": [
      "\n",
      "\n",
      "***** Columns with NULL data:\n",
      "\n",
      "\n",
      "Average_Marks_2011   39.0%\n",
      "Average_Marks_2012   37.3%\n",
      "Average_Marks_2013   7.2%\n",
      "Average_Marks_2014   6.4%\n",
      "\n",
      "\n",
      "***** The other 7 columns have NO NULL values :)\n",
      "\n",
      "\n"
     ]
    }
   ],
   "source": [
    "# percentage of null data in dataset:\n",
    "print(\"\\n\\n***** Columns with NULL data:\\n\\n\")\n",
    "n_cols_notnull = 0\n",
    "for col in sorted(list(df.columns)):\n",
    "    percent_null = float(df[col].isnull().sum()) / df.shape[0] * 100\n",
    "    if percent_null > 0:\n",
    "        print(\"{:15s}   {:.1f}%\".format(col, percent_null))\n",
    "    else:\n",
    "        n_cols_notnull += 1\n",
    "print(\"\\n\\n***** The other %i columns have NO NULL values :)\\n\\n\" % n_cols_notnull)"
   ]
  },
  {
   "cell_type": "markdown",
   "metadata": {},
   "source": [
    "#### How many schools had workshops?"
   ]
  },
  {
   "cell_type": "code",
   "execution_count": 10,
   "metadata": {
    "collapsed": false
   },
   "outputs": [
    {
     "name": "stdout",
     "output_type": "stream",
     "text": [
      "*** Feature:  SUM.WORKSHOPS  ***\n",
      "    number of uniques: 4\n",
      "Categories    Counts\n",
      "0    1083\n",
      "1     416\n",
      "2      61\n",
      "3      10\n",
      "dtype: int64 \n",
      "\n",
      "\n"
     ]
    }
   ],
   "source": [
    "col = 'SUM.WORKSHOPS'\n",
    "print '*** Feature: ',col,' ***'\n",
    "print '    number of uniques:',len(df[col].unique())\n",
    "print 'Categories    Counts\\n',pd.value_counts(df[col]),'\\n\\n'"
   ]
  },
  {
   "cell_type": "markdown",
   "metadata": {},
   "source": [
    "#### How are the workshops distributed per year?"
   ]
  },
  {
   "cell_type": "code",
   "execution_count": 11,
   "metadata": {
    "collapsed": false
   },
   "outputs": [
    {
     "name": "stdout",
     "output_type": "stream",
     "text": [
      "*** Feature:  WS.2010  ***\n",
      "    number of uniques: 3\n",
      "Categories    Counts\n",
      "0    1489\n",
      "1      79\n",
      "2       2\n",
      "dtype: int64 \n",
      "\n",
      "\n",
      "*** Feature:  WS.2011  ***\n",
      "    number of uniques: 2\n",
      "Categories    Counts\n",
      "0    1412\n",
      "1     158\n",
      "dtype: int64 \n",
      "\n",
      "\n",
      "*** Feature:  WS.2012  ***\n",
      "    number of uniques: 2\n",
      "Categories    Counts\n",
      "0    1528\n",
      "1      42\n",
      "dtype: int64 \n",
      "\n",
      "\n",
      "*** Feature:  WS.2013  ***\n",
      "    number of uniques: 2\n",
      "Categories    Counts\n",
      "0    1502\n",
      "1      68\n",
      "dtype: int64 \n",
      "\n",
      "\n",
      "*** Feature:  WS.2014  ***\n",
      "    number of uniques: 3\n",
      "Categories    Counts\n",
      "0    1484\n",
      "1      85\n",
      "2       1\n",
      "dtype: int64 \n",
      "\n",
      "\n",
      "*** Feature:  WS.2015  ***\n",
      "    number of uniques: 3\n",
      "Categories    Counts\n",
      "0    1442\n",
      "1     126\n",
      "2       2\n",
      "dtype: int64 \n",
      "\n",
      "\n"
     ]
    }
   ],
   "source": [
    "for col in df[WScols]:\n",
    "    print '*** Feature: ',col,' ***'\n",
    "    print '    number of uniques:',len(df[col].unique())\n",
    "    print 'Categories    Counts\\n',pd.value_counts(df[col]),'\\n\\n'"
   ]
  },
  {
   "cell_type": "markdown",
   "metadata": {},
   "source": [
    "#### We will explore how the schools performed 1, 2 or 3 years after doing the workshop, compared with those schools that never had a workshop"
   ]
  },
  {
   "cell_type": "markdown",
   "metadata": {},
   "source": [
    "First, we create a new feature with the last year in which the schools had a workshop:"
   ]
  },
  {
   "cell_type": "code",
   "execution_count": 12,
   "metadata": {
    "collapsed": false
   },
   "outputs": [
    {
     "name": "stdout",
     "output_type": "stream",
     "text": [
      "*** Feature:  lastWSyr  ***\n",
      "    number of uniques: 7\n",
      "Categories    Counts\n",
      "0       1083\n",
      "2011     128\n",
      "2015     128\n",
      "2014      86\n",
      "2013      67\n",
      "2012      41\n",
      "2010      37\n",
      "dtype: int64 \n",
      "\n",
      "\n"
     ]
    }
   ],
   "source": [
    "def last_yr(WSyrs):\n",
    "    if WSyrs['WS.2015']>0:\n",
    "        return '2015'\n",
    "    elif WSyrs['WS.2014']>0:\n",
    "        return '2014'\n",
    "    elif WSyrs['WS.2013']>0:\n",
    "        return '2013'\n",
    "    elif WSyrs['WS.2012']>0:\n",
    "        return '2012'\n",
    "    elif WSyrs['WS.2011']>0:\n",
    "        return '2011'\n",
    "    elif WSyrs['WS.2010']>0:\n",
    "        return '2010'\n",
    "    else: return 0\n",
    "\n",
    "df['lastWSyr'] = df[WScols].apply(last_yr, axis=1)\n",
    "\n",
    "col = 'lastWSyr'\n",
    "print '*** Feature: ',col,' ***'\n",
    "print '    number of uniques:',len(df[col].unique())\n",
    "print 'Categories    Counts\\n',pd.value_counts(df['lastWSyr']),'\\n\\n'"
   ]
  },
  {
   "cell_type": "code",
   "execution_count": 13,
   "metadata": {
    "collapsed": false,
    "scrolled": true
   },
   "outputs": [
    {
     "data": {
      "text/plain": [
       "lastWSyr\n",
       "0       117.489078\n",
       "2010    123.241667\n",
       "2011    124.632155\n",
       "2012    115.305854\n",
       "2013    103.128806\n",
       "2014    132.049884\n",
       "2015    114.076538\n",
       "Name: Average_Marks_2014, dtype: float64"
      ]
     },
     "execution_count": 13,
     "metadata": {},
     "output_type": "execute_result"
    }
   ],
   "source": [
    "df.groupby('lastWSyr')['Average_Marks_2014'].mean()"
   ]
  },
  {
   "cell_type": "markdown",
   "metadata": {},
   "source": [
    "Then we calculate the **average mark N years after last workshop**:"
   ]
  },
  {
   "cell_type": "code",
   "execution_count": 14,
   "metadata": {
    "collapsed": false
   },
   "outputs": [],
   "source": [
    "mycols = ['lastWSyr']\n",
    "mycols.extend(Average_Marks_cols)\n",
    "def get_marks_WS(cols):\n",
    "    if cols['lastWSyr']=='2010':\n",
    "        return cols['Average_Marks_2011']\n",
    "    elif cols['lastWSyr']=='2011':\n",
    "        return cols['Average_Marks_2012']\n",
    "    elif cols['lastWSyr']=='2012':\n",
    "        return cols['Average_Marks_2013']\n",
    "    elif cols['lastWSyr']=='2013':\n",
    "        return cols['Average_Marks_2014']    \n",
    "    else:\n",
    "        return None\n",
    "df['Mark_1_afterWS'] = df[mycols].apply(get_marks_WS, axis=1)"
   ]
  },
  {
   "cell_type": "code",
   "execution_count": 15,
   "metadata": {
    "collapsed": true
   },
   "outputs": [],
   "source": [
    "def get_marks_WS(cols):\n",
    "    if cols['lastWSyr']=='2010':\n",
    "        return cols['Average_Marks_2012']\n",
    "    elif cols['lastWSyr']=='2011':\n",
    "        return cols['Average_Marks_2013']\n",
    "    elif cols['lastWSyr']=='2012':\n",
    "        return cols['Average_Marks_2014']\n",
    "    else:\n",
    "        return None\n",
    "df['Mark_2_afterWS'] = df[mycols].apply(get_marks_WS, axis=1)"
   ]
  },
  {
   "cell_type": "code",
   "execution_count": 16,
   "metadata": {
    "collapsed": true
   },
   "outputs": [],
   "source": [
    "def get_marks_WS(cols):\n",
    "    if cols['lastWSyr']=='2010':\n",
    "        return cols['Average_Marks_2013']\n",
    "    elif cols['lastWSyr']=='2011':\n",
    "        return cols['Average_Marks_2014']\n",
    "    else:\n",
    "        return None\n",
    "df['Mark_3_afterWS'] = df[mycols].apply(get_marks_WS, axis=1)"
   ]
  },
  {
   "cell_type": "code",
   "execution_count": 17,
   "metadata": {
    "collapsed": true
   },
   "outputs": [],
   "source": [
    "def get_marks_WS(cols):\n",
    "    if cols['lastWSyr']=='2010':\n",
    "        return cols['Average_Marks_2014']\n",
    "    else:\n",
    "        return None\n",
    "df['Mark_4_afterWS'] = df[mycols].apply(get_marks_WS, axis=1)"
   ]
  },
  {
   "cell_type": "code",
   "execution_count": 18,
   "metadata": {
    "collapsed": false
   },
   "outputs": [
    {
     "name": "stdout",
     "output_type": "stream",
     "text": [
      "['Mark_1_afterWS', 'Mark_2_afterWS', 'Mark_3_afterWS', 'Mark_4_afterWS']\n"
     ]
    }
   ],
   "source": [
    "Marks_afterWScols = ['Mark_%i_afterWS' % i for i in xrange(1,5)]\n",
    "print Marks_afterWScols"
   ]
  },
  {
   "cell_type": "markdown",
   "metadata": {},
   "source": [
    "And we calculate the **average mark of the schools that NEVER took a workshop**:"
   ]
  },
  {
   "cell_type": "code",
   "execution_count": 19,
   "metadata": {
    "collapsed": false
   },
   "outputs": [
    {
     "name": "stdout",
     "output_type": "stream",
     "text": [
      "There are 1083 schools that NEVER attended a workshop\n"
     ]
    }
   ],
   "source": [
    "print(\"There are %i schools that NEVER attended a workshop\" % \n",
    "      df['SUM.WORKSHOPS'][df['SUM.WORKSHOPS']==0].count() )"
   ]
  },
  {
   "cell_type": "code",
   "execution_count": 20,
   "metadata": {
    "collapsed": true
   },
   "outputs": [],
   "source": [
    "# mean average mark of the schools that did not take the workshop:\n",
    "def av_only_no_WS(cols):\n",
    "    return cols[1:].mean() if cols['SUM.WORKSHOPS']==0 else None\n",
    "    \n",
    "df['Av_Marks_NoWS'] = df[['SUM.WORKSHOPS'] + Average_Marks_cols].apply(av_only_no_WS, axis=1)"
   ]
  },
  {
   "cell_type": "markdown",
   "metadata": {},
   "source": [
    "We explore the calculated marks..."
   ]
  },
  {
   "cell_type": "code",
   "execution_count": 21,
   "metadata": {
    "collapsed": false
   },
   "outputs": [
    {
     "data": {
      "text/plain": [
       "Av_Marks_NoWS     112.677892\n",
       "Mark_1_afterWS    105.341642\n",
       "Mark_2_afterWS    114.638358\n",
       "Mark_3_afterWS    121.048301\n",
       "Mark_4_afterWS    123.241667\n",
       "dtype: float64"
      ]
     },
     "execution_count": 21,
     "metadata": {},
     "output_type": "execute_result"
    }
   ],
   "source": [
    "df[['Av_Marks_NoWS']+Marks_afterWScols].mean()"
   ]
  },
  {
   "cell_type": "code",
   "execution_count": 22,
   "metadata": {
    "collapsed": false
   },
   "outputs": [
    {
     "data": {
      "text/plain": [
       "Average_Marks_2011    123.977513\n",
       "Average_Marks_2012     93.222876\n",
       "Average_Marks_2013    110.648765\n",
       "Average_Marks_2014    118.088646\n",
       "dtype: float64"
      ]
     },
     "execution_count": 22,
     "metadata": {},
     "output_type": "execute_result"
    }
   ],
   "source": [
    "df[Average_Marks_cols].mean()"
   ]
  },
  {
   "cell_type": "markdown",
   "metadata": {},
   "source": [
    "... and we realise that some of the variation on the marks N years after workshop is due to the intrinsic variation of marks during the years, not to a change in performance due to the workshops (because for instance \"Mark_4_afterWS\" is calculated only with \"Average_Marks_2014\", whereas \"Mark_1_afterWS\" includes \"Average_Marks_2011, 2012, 2013 and 2014\").\n",
    "\n",
    "So we calculate a new performance score..."
   ]
  },
  {
   "cell_type": "markdown",
   "metadata": {},
   "source": [
    "### Performance Score"
   ]
  },
  {
   "cell_type": "markdown",
   "metadata": {},
   "source": [
    "The new score called \"Performance\" will be the average mark of the school weighted over the mean of the average marks of the schools that year."
   ]
  },
  {
   "cell_type": "code",
   "execution_count": 23,
   "metadata": {
    "collapsed": false
   },
   "outputs": [],
   "source": [
    "df[\"Performance_2011\"] = df['Average_Marks_2011'].apply(lambda x: x/df['Average_Marks_2011'].mean())\n",
    "df[\"Performance_2012\"] = df['Average_Marks_2012'].apply(lambda x: x/df['Average_Marks_2012'].mean())\n",
    "df[\"Performance_2013\"] = df['Average_Marks_2013'].apply(lambda x: x/df['Average_Marks_2013'].mean())\n",
    "df[\"Performance_2014\"] = df['Average_Marks_2014'].apply(lambda x: x/df['Average_Marks_2014'].mean())"
   ]
  },
  {
   "cell_type": "markdown",
   "metadata": {},
   "source": [
    "The annual mean of the performance is always 1, independently of the year. So the performance is a measure of how good the school performed compared to the average performance of the other schools that year."
   ]
  },
  {
   "cell_type": "code",
   "execution_count": 24,
   "metadata": {
    "collapsed": false
   },
   "outputs": [
    {
     "name": "stdout",
     "output_type": "stream",
     "text": [
      "['Performance_2011', 'Performance_2012', 'Performance_2013', 'Performance_2014']\n"
     ]
    },
    {
     "data": {
      "text/html": [
       "<div style=\"max-height:1000px;max-width:1500px;overflow:auto;\">\n",
       "<table border=\"1\" class=\"dataframe\">\n",
       "  <thead>\n",
       "    <tr style=\"text-align: right;\">\n",
       "      <th></th>\n",
       "      <th>Performance_2011</th>\n",
       "      <th>Performance_2012</th>\n",
       "      <th>Performance_2013</th>\n",
       "      <th>Performance_2014</th>\n",
       "    </tr>\n",
       "  </thead>\n",
       "  <tbody>\n",
       "    <tr>\n",
       "      <th>count</th>\n",
       "      <td>957.000000</td>\n",
       "      <td>984.000000</td>\n",
       "      <td>1457.000000</td>\n",
       "      <td>1470.000000</td>\n",
       "    </tr>\n",
       "    <tr>\n",
       "      <th>mean</th>\n",
       "      <td>1.000000</td>\n",
       "      <td>1.000000</td>\n",
       "      <td>1.000000</td>\n",
       "      <td>1.000000</td>\n",
       "    </tr>\n",
       "    <tr>\n",
       "      <th>std</th>\n",
       "      <td>0.203220</td>\n",
       "      <td>0.267419</td>\n",
       "      <td>0.239225</td>\n",
       "      <td>0.236281</td>\n",
       "    </tr>\n",
       "    <tr>\n",
       "      <th>min</th>\n",
       "      <td>0.475893</td>\n",
       "      <td>0.548041</td>\n",
       "      <td>0.557982</td>\n",
       "      <td>0.521727</td>\n",
       "    </tr>\n",
       "    <tr>\n",
       "      <th>25%</th>\n",
       "      <td>0.860559</td>\n",
       "      <td>0.827747</td>\n",
       "      <td>0.846372</td>\n",
       "      <td>0.840830</td>\n",
       "    </tr>\n",
       "    <tr>\n",
       "      <th>50%</th>\n",
       "      <td>0.976145</td>\n",
       "      <td>0.936465</td>\n",
       "      <td>0.945695</td>\n",
       "      <td>0.953055</td>\n",
       "    </tr>\n",
       "    <tr>\n",
       "      <th>75%</th>\n",
       "      <td>1.113347</td>\n",
       "      <td>1.087206</td>\n",
       "      <td>1.085868</td>\n",
       "      <td>1.108637</td>\n",
       "    </tr>\n",
       "    <tr>\n",
       "      <th>max</th>\n",
       "      <td>1.795487</td>\n",
       "      <td>2.365943</td>\n",
       "      <td>2.010054</td>\n",
       "      <td>1.925926</td>\n",
       "    </tr>\n",
       "  </tbody>\n",
       "</table>\n",
       "</div>"
      ],
      "text/plain": [
       "       Performance_2011  Performance_2012  Performance_2013  Performance_2014\n",
       "count        957.000000        984.000000       1457.000000       1470.000000\n",
       "mean           1.000000          1.000000          1.000000          1.000000\n",
       "std            0.203220          0.267419          0.239225          0.236281\n",
       "min            0.475893          0.548041          0.557982          0.521727\n",
       "25%            0.860559          0.827747          0.846372          0.840830\n",
       "50%            0.976145          0.936465          0.945695          0.953055\n",
       "75%            1.113347          1.087206          1.085868          1.108637\n",
       "max            1.795487          2.365943          2.010054          1.925926"
      ]
     },
     "execution_count": 24,
     "metadata": {},
     "output_type": "execute_result"
    }
   ],
   "source": [
    "Perfor_cols = [\"Performance_%i\" % i for i in xrange(2011,2015)]\n",
    "print Perfor_cols\n",
    "df[Perfor_cols].describe()"
   ]
  },
  {
   "cell_type": "markdown",
   "metadata": {},
   "source": [
    "Other possible ways to calculate the performance score, all of them leading to similar results, are:"
   ]
  },
  {
   "cell_type": "code",
   "execution_count": 25,
   "metadata": {
    "collapsed": false
   },
   "outputs": [],
   "source": [
    "# Performance as normalized mark (x-mean/(max-min))\n",
    "#df[Perfor_cols] = (df[Average_Marks_cols] - df[Average_Marks_cols].mean()) / (df[Average_Marks_cols].max() - df[Average_Marks_cols].min())\n",
    "# Performance as deviation from mean\n",
    "#df[Perfor_cols] = df[Average_Marks_cols] - df[Average_Marks_cols].mean()\n",
    "# Performance as deviation from median\n",
    "#df[Perfor_cols] = df[Average_Marks_cols] - df[Average_Marks_cols].median()"
   ]
  },
  {
   "cell_type": "markdown",
   "metadata": {},
   "source": [
    "Calculation of **Performance N years after last workshop**:"
   ]
  },
  {
   "cell_type": "code",
   "execution_count": 26,
   "metadata": {
    "collapsed": true
   },
   "outputs": [],
   "source": [
    "mycols = ['lastWSyr']\n",
    "mycols.extend(Perfor_cols)\n",
    "def get_marks_WS(cols):\n",
    "    if cols['lastWSyr']=='2010':\n",
    "        return cols['Performance_2011']\n",
    "    elif cols['lastWSyr']=='2011':\n",
    "        return cols['Performance_2012']\n",
    "    elif cols['lastWSyr']=='2012':\n",
    "        return cols['Performance_2013']\n",
    "    elif cols['lastWSyr']=='2013':\n",
    "        return cols['Performance_2014']    \n",
    "    else:\n",
    "        return None\n",
    "df['Perf_1_afterWS'] = df[mycols].apply(get_marks_WS, axis=1)"
   ]
  },
  {
   "cell_type": "code",
   "execution_count": 27,
   "metadata": {
    "collapsed": true
   },
   "outputs": [],
   "source": [
    "def get_marks_WS(cols):\n",
    "    if cols['lastWSyr']=='2010':\n",
    "        return cols['Performance_2012']\n",
    "    elif cols['lastWSyr']=='2011':\n",
    "        return cols['Performance_2013']\n",
    "    elif cols['lastWSyr']=='2012':\n",
    "        return cols['Performance_2014']\n",
    "    else:\n",
    "        return None\n",
    "df['Perf_2_afterWS'] = df[mycols].apply(get_marks_WS, axis=1)"
   ]
  },
  {
   "cell_type": "code",
   "execution_count": 28,
   "metadata": {
    "collapsed": true
   },
   "outputs": [],
   "source": [
    "def get_marks_WS(cols):\n",
    "    if cols['lastWSyr']=='2010':\n",
    "        return cols['Performance_2013']\n",
    "    elif cols['lastWSyr']=='2011':\n",
    "        return cols['Performance_2014']\n",
    "    else:\n",
    "        return None\n",
    "df['Perf_3_afterWS'] = df[mycols].apply(get_marks_WS, axis=1)"
   ]
  },
  {
   "cell_type": "code",
   "execution_count": 29,
   "metadata": {
    "collapsed": true
   },
   "outputs": [],
   "source": [
    "def get_marks_WS(cols):\n",
    "    if cols['lastWSyr']=='2010':\n",
    "        return cols['Performance_2014']\n",
    "    else:\n",
    "        return None\n",
    "df['Perf_4_afterWS'] = df[mycols].apply(get_marks_WS, axis=1)"
   ]
  },
  {
   "cell_type": "code",
   "execution_count": 30,
   "metadata": {
    "collapsed": false
   },
   "outputs": [
    {
     "name": "stdout",
     "output_type": "stream",
     "text": [
      "['Perf_1_afterWS', 'Perf_2_afterWS', 'Perf_3_afterWS', 'Perf_4_afterWS']\n"
     ]
    }
   ],
   "source": [
    "Perfs_afterWScols = ['Perf_%i_afterWS' % i for i in xrange(1,5)]\n",
    "print Perfs_afterWScols"
   ]
  },
  {
   "cell_type": "markdown",
   "metadata": {},
   "source": [
    "And we calculate the **Performance of the schools that NEVER took a workshop**:"
   ]
  },
  {
   "cell_type": "code",
   "execution_count": 31,
   "metadata": {
    "collapsed": false
   },
   "outputs": [],
   "source": [
    "# mean performance of the schools that did not take the workshop:\n",
    "def perf_only_no_WS(cols):\n",
    "    return cols[1:].mean() if cols['SUM.WORKSHOPS']==0 else None\n",
    "    \n",
    "df['Av_Perfs_NoWS'] = df[['SUM.WORKSHOPS']+Perfor_cols].apply(perf_only_no_WS, axis=1)"
   ]
  },
  {
   "cell_type": "code",
   "execution_count": 32,
   "metadata": {
    "collapsed": false
   },
   "outputs": [
    {
     "data": {
      "text/html": [
       "<div style=\"max-height:1000px;max-width:1500px;overflow:auto;\">\n",
       "<table border=\"1\" class=\"dataframe\">\n",
       "  <thead>\n",
       "    <tr style=\"text-align: right;\">\n",
       "      <th></th>\n",
       "      <th>Av_Perfs_NoWS</th>\n",
       "      <th>Perf_1_afterWS</th>\n",
       "      <th>Perf_2_afterWS</th>\n",
       "      <th>Perf_3_afterWS</th>\n",
       "      <th>Perf_4_afterWS</th>\n",
       "    </tr>\n",
       "  </thead>\n",
       "  <tbody>\n",
       "    <tr>\n",
       "      <th>count</th>\n",
       "      <td>1083.000000</td>\n",
       "      <td>268.000000</td>\n",
       "      <td>201.000000</td>\n",
       "      <td>153.000000</td>\n",
       "      <td>36.000000</td>\n",
       "    </tr>\n",
       "    <tr>\n",
       "      <th>mean</th>\n",
       "      <td>0.999384</td>\n",
       "      <td>1.001439</td>\n",
       "      <td>1.046036</td>\n",
       "      <td>1.040184</td>\n",
       "      <td>1.043637</td>\n",
       "    </tr>\n",
       "    <tr>\n",
       "      <th>std</th>\n",
       "      <td>0.214565</td>\n",
       "      <td>0.249112</td>\n",
       "      <td>0.249454</td>\n",
       "      <td>0.219580</td>\n",
       "      <td>0.212096</td>\n",
       "    </tr>\n",
       "    <tr>\n",
       "      <th>min</th>\n",
       "      <td>0.596041</td>\n",
       "      <td>0.548578</td>\n",
       "      <td>0.588795</td>\n",
       "      <td>0.569008</td>\n",
       "      <td>0.626648</td>\n",
       "    </tr>\n",
       "    <tr>\n",
       "      <th>25%</th>\n",
       "      <td>0.864910</td>\n",
       "      <td>0.838256</td>\n",
       "      <td>0.886228</td>\n",
       "      <td>0.875359</td>\n",
       "      <td>0.889438</td>\n",
       "    </tr>\n",
       "    <tr>\n",
       "      <th>50%</th>\n",
       "      <td>0.954421</td>\n",
       "      <td>0.962055</td>\n",
       "      <td>0.978231</td>\n",
       "      <td>1.003737</td>\n",
       "      <td>1.011020</td>\n",
       "    </tr>\n",
       "    <tr>\n",
       "      <th>75%</th>\n",
       "      <td>1.063680</td>\n",
       "      <td>1.091340</td>\n",
       "      <td>1.175612</td>\n",
       "      <td>1.151931</td>\n",
       "      <td>1.212797</td>\n",
       "    </tr>\n",
       "    <tr>\n",
       "      <th>max</th>\n",
       "      <td>2.066000</td>\n",
       "      <td>2.302439</td>\n",
       "      <td>1.968662</td>\n",
       "      <td>1.862245</td>\n",
       "      <td>1.546889</td>\n",
       "    </tr>\n",
       "  </tbody>\n",
       "</table>\n",
       "</div>"
      ],
      "text/plain": [
       "       Av_Perfs_NoWS  Perf_1_afterWS  Perf_2_afterWS  Perf_3_afterWS  \\\n",
       "count    1083.000000      268.000000      201.000000      153.000000   \n",
       "mean        0.999384        1.001439        1.046036        1.040184   \n",
       "std         0.214565        0.249112        0.249454        0.219580   \n",
       "min         0.596041        0.548578        0.588795        0.569008   \n",
       "25%         0.864910        0.838256        0.886228        0.875359   \n",
       "50%         0.954421        0.962055        0.978231        1.003737   \n",
       "75%         1.063680        1.091340        1.175612        1.151931   \n",
       "max         2.066000        2.302439        1.968662        1.862245   \n",
       "\n",
       "       Perf_4_afterWS  \n",
       "count       36.000000  \n",
       "mean         1.043637  \n",
       "std          0.212096  \n",
       "min          0.626648  \n",
       "25%          0.889438  \n",
       "50%          1.011020  \n",
       "75%          1.212797  \n",
       "max          1.546889  "
      ]
     },
     "execution_count": 32,
     "metadata": {},
     "output_type": "execute_result"
    }
   ],
   "source": [
    "df[['Av_Perfs_NoWS']+Perfs_afterWScols].describe()"
   ]
  },
  {
   "cell_type": "markdown",
   "metadata": {},
   "source": [
    "## Plots"
   ]
  },
  {
   "cell_type": "markdown",
   "metadata": {},
   "source": [
    "### Average marks"
   ]
  },
  {
   "cell_type": "code",
   "execution_count": 33,
   "metadata": {
    "collapsed": false,
    "scrolled": true
   },
   "outputs": [
    {
     "name": "stderr",
     "output_type": "stream",
     "text": [
      "/data/anaconda/lib/python2.7/site-packages/seaborn/categorical.py:1791: UserWarning: The violinplot API has been changed. Attempting to adjust your arguments for the new API (which might not work). Please update your code. See the version 0.6 release notes for more info.\n",
      "  warnings.warn(msg, UserWarning)\n"
     ]
    },
    {
     "data": {
      "image/png": "[encoded data removed]",
      "text/plain": [
       "<matplotlib.figure.Figure at 0x7fa220a52790>"
      ]
     },
     "metadata": {},
     "output_type": "display_data"
    }
   ],
   "source": [
    "fig, ax = plt.subplots(figsize=(8,6))\n",
    "ax = sns.violinplot(x=df[Average_Marks_cols], inner=\"quartile\")\n",
    "ax.set_xlabel('Year')\n",
    "ax.set_ylabel('Average Mark of all Schools')\n",
    "ax.set_xticklabels([\"2011\", \"2012\", \"2013\", \"2014\"])\n",
    "fig.savefig('Yearly_average_marks.eps', format='eps', dpi=100)\n",
    "fig.savefig('Yearly_average_marks.pdf', format='pdf', dpi=100)"
   ]
  },
  {
   "cell_type": "markdown",
   "metadata": {},
   "source": [
    "The plot above depicts *violin plots*. The shape of the violin shows the distribution of the performances, whereas the discontinuous lines inside the violins show the 1st quartile, the median and the 3rd quartile of the distributions.\n",
    "\n",
    "In the plot above we can see that the average marks really change over the years. Now we are truly convinced that is better to use *Performance* instead of the *Average_mark*."
   ]
  },
  {
   "cell_type": "markdown",
   "metadata": {},
   "source": [
    "### Performance\n",
    "\n",
    "Remember that the performance is the average mark weighted over the mean mark that year, so the annual mean of the performance of all schools is always one."
   ]
  },
  {
   "cell_type": "markdown",
   "metadata": {},
   "source": [
    "**Distribution of the performances** of all schools that never had a Workshop (WS), and those after 1, 2, 3 and 4 years of having the WS:"
   ]
  },
  {
   "cell_type": "code",
   "execution_count": 42,
   "metadata": {
    "collapsed": false
   },
   "outputs": [
    {
     "data": {
      "image/png": "[encoded data removed]",
      "text/plain": [
       "<matplotlib.figure.Figure at 0x7fa1f41e2990>"
      ]
     },
     "metadata": {},
     "output_type": "display_data"
    }
   ],
   "source": [
    "fig, ax = plt.subplots(figsize=(9,6))\n",
    "ax = sns.violinplot(x=df[['Av_Perfs_NoWS']+Perfs_afterWScols], inner=\"quartile\")\n",
    "ax.set_xlabel('Years after last Workshop')\n",
    "ax.set_ylabel('Performance of Schools')\n",
    "ax.set_xticklabels([\"Never workshop\",\"1\", \"2\", \"3\", \"4\"])\n",
    "fig.savefig('Performance_years_after_WS.eps', format='eps', dpi=100)\n",
    "fig.savefig('Performance_years_after_WS.pdf', format='pdf', dpi=100)"
   ]
  },
  {
   "cell_type": "markdown",
   "metadata": {},
   "source": [
    "The plot above depicts *violin plots*. The shape of the violin shows the distribution of the performances, whereas the discontinuous lines inside the violins show the 1st quartile, the median and the 3rd quartile of the distributions.\n",
    "\n",
    "We can see that the performances of the schools improves after having a workshop, and it continues to improve during the following years."
   ]
  },
  {
   "cell_type": "code",
   "execution_count": 37,
   "metadata": {
    "collapsed": false
   },
   "outputs": [],
   "source": [
    "#print df[['Av_Perfs_NoWS']+Perfs_afterWScols].median().values\n",
    "#print df[['Av_Perfs_NoWS']+Perfs_afterWScols].mean().values\n",
    "#print df[['Av_Perfs_NoWS']+Perfs_afterWScols].std().values"
   ]
  },
  {
   "cell_type": "markdown",
   "metadata": {},
   "source": [
    "We will now perform a **linear regression** over the performances, to confirm that they indeed increase after having a workshop.\n",
    "\n",
    "To do that we will use the lmplot function of the Seaborn package for statistical data visualization. This function needs our data in a specific format, so we will first transform the format of our data."
   ]
  },
  {
   "cell_type": "code",
   "execution_count": 38,
   "metadata": {
    "collapsed": false
   },
   "outputs": [],
   "source": [
    "# new dataframe df2 with all rows and only performance columns (the last five):\n",
    "df2 = df.ix[:,-5:]\n",
    "# reindex and rename columns with the number of years after workshop (0 means never WS)\n",
    "df2['index'] = df2.index\n",
    "df2.columns = [1,2,3,4,0,'index']\n",
    "# melt the dataframe\n",
    "df2 = pd.melt(df2, id_vars='index', var_name='Years after last Workshop',\n",
    "              value_name='School Performance').dropna().sort('index')"
   ]
  },
  {
   "cell_type": "markdown",
   "metadata": {},
   "source": [
    "Plot the regression:"
   ]
  },
  {
   "cell_type": "code",
   "execution_count": 41,
   "metadata": {
    "collapsed": false
   },
   "outputs": [
    {
     "data": {
      "image/png": "[encoded data removed]",
      "text/plain": [
       "<matplotlib.figure.Figure at 0x7fa1f3bbf3d0>"
      ]
     },
     "metadata": {},
     "output_type": "display_data"
    }
   ],
   "source": [
    "#fig, ax = plt.subplots(figsize=(9,6))\n",
    "ax = sns.lmplot(x=\"Years after last Workshop\", y=\"School Performance\", data=df2,\n",
    "                x_estimator=np.mean, size=5, aspect=1.4).set(xlim=(-0.5, 4.5))\n",
    "ax.set_xticklabels([\"\", \"Never workshop\", \"1\", \"2\", \"3\", \"4\"])\n",
    "ax.savefig('Regression_Performance_years_after_WS.eps', format='eps', dpi=100)\n",
    "ax.savefig('Regression_Performance_years_after_WS.pdf', format='pdf', dpi=100)"
   ]
  },
  {
   "cell_type": "markdown",
   "metadata": {},
   "source": [
    "(the blue area around the linear regression is the 95% confidence interval for the regression model)"
   ]
  },
  {
   "cell_type": "markdown",
   "metadata": {},
   "source": [
    "## Conclusion:"
   ]
  },
  {
   "cell_type": "markdown",
   "metadata": {},
   "source": [
    "#### We have confirmed that the performance of the schools improves after having a workshop.\n",
    "#### Moreover, the workshops have a long-lasting impact, so the performance of the schools continues to improve during the following years after the workshop."
   ]
  }
 ],
 "metadata": {
  "kernelspec": {
   "display_name": "Python 2",
   "language": "python",
   "name": "python2"
  },
  "language_info": {
   "codemirror_mode": {
    "name": "ipython",
    "version": 2
   },
   "file_extension": ".py",
   "mimetype": "text/x-python",
   "name": "python",
   "nbconvert_exporter": "python",
   "pygments_lexer": "ipython2",
   "version": "2.7.10"
  }
 },
 "nbformat": 4,
 "nbformat_minor": 0
}
